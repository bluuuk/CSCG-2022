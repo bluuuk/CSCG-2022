{
 "cells": [
  {
   "cell_type": "code",
   "execution_count": 40,
   "metadata": {},
   "outputs": [],
   "source": [
    "import pandas as pd\n",
    "import re\n",
    "import requests"
   ]
  },
  {
   "cell_type": "code",
   "execution_count": 3,
   "metadata": {},
   "outputs": [
    {
     "data": {
      "text/html": [
       "<div>\n",
       "<style scoped>\n",
       "    .dataframe tbody tr th:only-of-type {\n",
       "        vertical-align: middle;\n",
       "    }\n",
       "\n",
       "    .dataframe tbody tr th {\n",
       "        vertical-align: top;\n",
       "    }\n",
       "\n",
       "    .dataframe thead th {\n",
       "        text-align: right;\n",
       "    }\n",
       "</style>\n",
       "<table border=\"1\" class=\"dataframe\">\n",
       "  <thead>\n",
       "    <tr style=\"text-align: right;\">\n",
       "      <th></th>\n",
       "      <th>No.</th>\n",
       "      <th>Time</th>\n",
       "      <th>Source</th>\n",
       "      <th>Destination</th>\n",
       "      <th>Protocol</th>\n",
       "      <th>Length</th>\n",
       "      <th>Info</th>\n",
       "    </tr>\n",
       "  </thead>\n",
       "  <tbody>\n",
       "    <tr>\n",
       "      <th>0</th>\n",
       "      <td>8</td>\n",
       "      <td>0.026937</td>\n",
       "      <td>192.168.26.53</td>\n",
       "      <td>172.217.16.78</td>\n",
       "      <td>HTTP</td>\n",
       "      <td>235</td>\n",
       "      <td>GET /watch?v=lb0dBVWozRo HTTP/1.1</td>\n",
       "    </tr>\n",
       "    <tr>\n",
       "      <th>1</th>\n",
       "      <td>185</td>\n",
       "      <td>0.587445</td>\n",
       "      <td>192.168.26.53</td>\n",
       "      <td>172.217.16.78</td>\n",
       "      <td>HTTP</td>\n",
       "      <td>235</td>\n",
       "      <td>GET /watch?v=lb0dBVWozRo HTTP/1.1</td>\n",
       "    </tr>\n",
       "    <tr>\n",
       "      <th>2</th>\n",
       "      <td>362</td>\n",
       "      <td>2.128033</td>\n",
       "      <td>192.168.26.53</td>\n",
       "      <td>172.217.16.78</td>\n",
       "      <td>HTTP</td>\n",
       "      <td>235</td>\n",
       "      <td>GET /watch?v=f8OHybVhQwc HTTP/1.1</td>\n",
       "    </tr>\n",
       "    <tr>\n",
       "      <th>3</th>\n",
       "      <td>547</td>\n",
       "      <td>3.796298</td>\n",
       "      <td>192.168.26.53</td>\n",
       "      <td>172.217.16.78</td>\n",
       "      <td>HTTP</td>\n",
       "      <td>235</td>\n",
       "      <td>GET /watch?v=OmEpkztK5Lw HTTP/1.1</td>\n",
       "    </tr>\n",
       "    <tr>\n",
       "      <th>4</th>\n",
       "      <td>733</td>\n",
       "      <td>5.436231</td>\n",
       "      <td>192.168.26.53</td>\n",
       "      <td>172.217.16.78</td>\n",
       "      <td>HTTP</td>\n",
       "      <td>235</td>\n",
       "      <td>GET /watch?v=9o4LKzaMaOo HTTP/1.1</td>\n",
       "    </tr>\n",
       "    <tr>\n",
       "      <th>5</th>\n",
       "      <td>903</td>\n",
       "      <td>7.025617</td>\n",
       "      <td>192.168.26.53</td>\n",
       "      <td>172.217.16.78</td>\n",
       "      <td>HTTP</td>\n",
       "      <td>235</td>\n",
       "      <td>GET /watch?v=W3W9Yj8a0Fg HTTP/1.1</td>\n",
       "    </tr>\n",
       "    <tr>\n",
       "      <th>6</th>\n",
       "      <td>1093</td>\n",
       "      <td>8.634585</td>\n",
       "      <td>192.168.26.53</td>\n",
       "      <td>172.217.16.78</td>\n",
       "      <td>HTTP</td>\n",
       "      <td>235</td>\n",
       "      <td>GET /watch?v=8A2t_tAjMz8 HTTP/1.1</td>\n",
       "    </tr>\n",
       "    <tr>\n",
       "      <th>7</th>\n",
       "      <td>1286</td>\n",
       "      <td>10.245125</td>\n",
       "      <td>192.168.26.53</td>\n",
       "      <td>172.217.16.78</td>\n",
       "      <td>HTTP</td>\n",
       "      <td>235</td>\n",
       "      <td>GET /watch?v=DujEvJIW_9I HTTP/1.1</td>\n",
       "    </tr>\n",
       "    <tr>\n",
       "      <th>8</th>\n",
       "      <td>1497</td>\n",
       "      <td>11.795382</td>\n",
       "      <td>192.168.26.53</td>\n",
       "      <td>172.217.16.78</td>\n",
       "      <td>HTTP</td>\n",
       "      <td>235</td>\n",
       "      <td>GET /watch?v=u2nRLeEQhYo HTTP/1.1</td>\n",
       "    </tr>\n",
       "    <tr>\n",
       "      <th>9</th>\n",
       "      <td>1686</td>\n",
       "      <td>13.519555</td>\n",
       "      <td>192.168.26.53</td>\n",
       "      <td>172.217.16.78</td>\n",
       "      <td>HTTP</td>\n",
       "      <td>235</td>\n",
       "      <td>GET /watch?v=uAZ9R2t5Jd0 HTTP/1.1</td>\n",
       "    </tr>\n",
       "    <tr>\n",
       "      <th>10</th>\n",
       "      <td>1858</td>\n",
       "      <td>15.045450</td>\n",
       "      <td>192.168.26.53</td>\n",
       "      <td>172.217.16.78</td>\n",
       "      <td>HTTP</td>\n",
       "      <td>235</td>\n",
       "      <td>GET /watch?v=vb3NnS_DjGE HTTP/1.1</td>\n",
       "    </tr>\n",
       "    <tr>\n",
       "      <th>11</th>\n",
       "      <td>2039</td>\n",
       "      <td>16.592883</td>\n",
       "      <td>192.168.26.53</td>\n",
       "      <td>172.217.16.78</td>\n",
       "      <td>HTTP</td>\n",
       "      <td>235</td>\n",
       "      <td>GET /watch?v=utUVQdf5KW0 HTTP/1.1</td>\n",
       "    </tr>\n",
       "    <tr>\n",
       "      <th>12</th>\n",
       "      <td>2209</td>\n",
       "      <td>18.129488</td>\n",
       "      <td>192.168.26.53</td>\n",
       "      <td>172.217.16.78</td>\n",
       "      <td>HTTP</td>\n",
       "      <td>235</td>\n",
       "      <td>GET /watch?v=Q2hLFoFcVi8 HTTP/1.1</td>\n",
       "    </tr>\n",
       "    <tr>\n",
       "      <th>13</th>\n",
       "      <td>2368</td>\n",
       "      <td>18.662513</td>\n",
       "      <td>192.168.26.53</td>\n",
       "      <td>172.217.16.78</td>\n",
       "      <td>HTTP</td>\n",
       "      <td>235</td>\n",
       "      <td>GET /watch?v=-yXl4icHlw8 HTTP/1.1</td>\n",
       "    </tr>\n",
       "    <tr>\n",
       "      <th>14</th>\n",
       "      <td>2539</td>\n",
       "      <td>19.314321</td>\n",
       "      <td>192.168.26.53</td>\n",
       "      <td>172.217.16.78</td>\n",
       "      <td>HTTP</td>\n",
       "      <td>235</td>\n",
       "      <td>GET /watch?v=ZeqR4tYSmGI HTTP/1.1</td>\n",
       "    </tr>\n",
       "  </tbody>\n",
       "</table>\n",
       "</div>"
      ],
      "text/plain": [
       "     No.       Time         Source    Destination Protocol  Length  \\\n",
       "0      8   0.026937  192.168.26.53  172.217.16.78     HTTP     235   \n",
       "1    185   0.587445  192.168.26.53  172.217.16.78     HTTP     235   \n",
       "2    362   2.128033  192.168.26.53  172.217.16.78     HTTP     235   \n",
       "3    547   3.796298  192.168.26.53  172.217.16.78     HTTP     235   \n",
       "4    733   5.436231  192.168.26.53  172.217.16.78     HTTP     235   \n",
       "5    903   7.025617  192.168.26.53  172.217.16.78     HTTP     235   \n",
       "6   1093   8.634585  192.168.26.53  172.217.16.78     HTTP     235   \n",
       "7   1286  10.245125  192.168.26.53  172.217.16.78     HTTP     235   \n",
       "8   1497  11.795382  192.168.26.53  172.217.16.78     HTTP     235   \n",
       "9   1686  13.519555  192.168.26.53  172.217.16.78     HTTP     235   \n",
       "10  1858  15.045450  192.168.26.53  172.217.16.78     HTTP     235   \n",
       "11  2039  16.592883  192.168.26.53  172.217.16.78     HTTP     235   \n",
       "12  2209  18.129488  192.168.26.53  172.217.16.78     HTTP     235   \n",
       "13  2368  18.662513  192.168.26.53  172.217.16.78     HTTP     235   \n",
       "14  2539  19.314321  192.168.26.53  172.217.16.78     HTTP     235   \n",
       "\n",
       "                                  Info  \n",
       "0   GET /watch?v=lb0dBVWozRo HTTP/1.1   \n",
       "1   GET /watch?v=lb0dBVWozRo HTTP/1.1   \n",
       "2   GET /watch?v=f8OHybVhQwc HTTP/1.1   \n",
       "3   GET /watch?v=OmEpkztK5Lw HTTP/1.1   \n",
       "4   GET /watch?v=9o4LKzaMaOo HTTP/1.1   \n",
       "5   GET /watch?v=W3W9Yj8a0Fg HTTP/1.1   \n",
       "6   GET /watch?v=8A2t_tAjMz8 HTTP/1.1   \n",
       "7   GET /watch?v=DujEvJIW_9I HTTP/1.1   \n",
       "8   GET /watch?v=u2nRLeEQhYo HTTP/1.1   \n",
       "9   GET /watch?v=uAZ9R2t5Jd0 HTTP/1.1   \n",
       "10  GET /watch?v=vb3NnS_DjGE HTTP/1.1   \n",
       "11  GET /watch?v=utUVQdf5KW0 HTTP/1.1   \n",
       "12  GET /watch?v=Q2hLFoFcVi8 HTTP/1.1   \n",
       "13  GET /watch?v=-yXl4icHlw8 HTTP/1.1   \n",
       "14  GET /watch?v=ZeqR4tYSmGI HTTP/1.1   "
      ]
     },
     "execution_count": 3,
     "metadata": {},
     "output_type": "execute_result"
    }
   ],
   "source": [
    "df = pd.read_csv(\"requests.csv\")\n",
    "df"
   ]
  },
  {
   "cell_type": "code",
   "execution_count": 36,
   "metadata": {},
   "outputs": [],
   "source": [
    "df.Info = df[\"Info\"].apply(lambda x:re.findall(\"=([\\-\\w]+)\\s\",x)[0])"
   ]
  },
  {
   "cell_type": "code",
   "execution_count": 37,
   "metadata": {},
   "outputs": [],
   "source": [
    "urls = df.Info.to_list()"
   ]
  },
  {
   "cell_type": "code",
   "execution_count": 41,
   "metadata": {},
   "outputs": [],
   "source": [
    "resps = []\n",
    "\n",
    "for url in urls:\n",
    "    target = \"http://youtube.com/watch?v=\" + url\n",
    "    resp = requests.get(target)\n",
    "    resps.append(resp)"
   ]
  },
  {
   "cell_type": "code",
   "execution_count": 50,
   "metadata": {},
   "outputs": [],
   "source": [
    "r = resps[0]"
   ]
  },
  {
   "cell_type": "code",
   "execution_count": 57,
   "metadata": {},
   "outputs": [
    {
     "data": {
      "text/plain": [
       "15"
      ]
     },
     "execution_count": 57,
     "metadata": {},
     "output_type": "execute_result"
    }
   ],
   "source": [
    "len(urls)"
   ]
  },
  {
   "cell_type": "code",
   "execution_count": 58,
   "metadata": {},
   "outputs": [
    {
     "data": {
      "text/plain": [
       "'lb0dBVWozRo,lb0dBVWozRo,f8OHybVhQwc,OmEpkztK5Lw,9o4LKzaMaOo,W3W9Yj8a0Fg,8A2t_tAjMz8,DujEvJIW_9I,u2nRLeEQhYo,uAZ9R2t5Jd0,vb3NnS_DjGE,utUVQdf5KW0,Q2hLFoFcVi8,-yXl4icHlw8,ZeqR4tYSmGI'"
      ]
     },
     "execution_count": 58,
     "metadata": {},
     "output_type": "execute_result"
    }
   ],
   "source": [
    "\",\".join(urls)"
   ]
  }
 ],
 "metadata": {
  "interpreter": {
   "hash": "31f2aee4e71d21fbe5cf8b01ff0e069b9275f58929596ceb00d14d90e3e16cd6"
  },
  "kernelspec": {
   "display_name": "Python 3.9.7 64-bit",
   "language": "python",
   "name": "python3"
  },
  "language_info": {
   "codemirror_mode": {
    "name": "ipython",
    "version": 3
   },
   "file_extension": ".py",
   "mimetype": "text/x-python",
   "name": "python",
   "nbconvert_exporter": "python",
   "pygments_lexer": "ipython3",
   "version": "3.9.7"
  },
  "orig_nbformat": 4
 },
 "nbformat": 4,
 "nbformat_minor": 2
}
