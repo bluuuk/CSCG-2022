{
 "cells": [
  {
   "cell_type": "code",
   "execution_count": 127,
   "metadata": {},
   "outputs": [],
   "source": [
    "from pwn import *\n",
    "import pandas as pd\n",
    "import ebcdic\n",
    "import zlib\n",
    "import base64\n",
    "import ebcdic"
   ]
  },
  {
   "cell_type": "code",
   "execution_count": 2,
   "metadata": {},
   "outputs": [],
   "source": [
    "def nicehex(b: bytes) -> str:\n",
    "    h = b.hex()\n",
    "    return \" \".join(h[i:i+2] for i in range(0,len(h),2))"
   ]
  },
  {
   "cell_type": "code",
   "execution_count": 149,
   "metadata": {},
   "outputs": [
    {
     "data": {
      "text/plain": [
       "'0x25'"
      ]
     },
     "execution_count": 149,
     "metadata": {},
     "output_type": "execute_result"
    }
   ],
   "source": []
  },
  {
   "cell_type": "code",
   "execution_count": 170,
   "metadata": {},
   "outputs": [],
   "source": [
    "\n",
    "\n",
    "def setup():\n",
    "    \n",
    "    data = []\n",
    "    \n",
    "    r = remote(\"b3f585cbfa57364f98ddc78b-mainframe.challenge.master.cscg.live\",31337,ssl=True)\n",
    "\n",
    "    k = r.recv(1024,timeout=1)\n",
    "    data.append(nicehex(k))\n",
    "    \n",
    "    counter = bytearray(k[-4:])\n",
    "    counter[0:1] = bytes([counter[0] + 1])\n",
    "    \n",
    "    to_send = bytes.fromhex(\"02 00 00 00 00 00 00\") + counter\n",
    "    data.append(nicehex(to_send))\n",
    "    print(\"Sending: \",nicehex(to_send))\n",
    "    r.send(to_send)\n",
    "    \n",
    "    k = r.recv(1024,timeout=1)\n",
    "    data.append(nicehex(k))\n",
    "    \n",
    "    counter = bytearray(k[-4:])\n",
    "    counter[0:1] = bytes([counter[0] + 1])\n",
    "    #                        xx ll ll  p  w  d  % zz zz zz zz\n",
    "    # ll = len(payload + \"%\")\n",
    "    # xx = type command\n",
    "    \n",
    "    command = 'cat flag.*'.encode('cp1148') + bytes([ord(\"%\")])\n",
    "    print(\"Command: \", nicehex(command))\n",
    "    crc = zlib.crc32(command).to_bytes(4,\"little\")\n",
    "    print(\"CRC: \",nicehex(crc))\n",
    "    to_send = bytes.fromhex(\"10\") + bytes([len(command),0]) + command + crc + counter\n",
    "    # to_send = bytes.fromhex(\"10 04 00 97 a6 84 25 db ae cd c8\") + counter + b\"\\n\"\n",
    "    \n",
    "    data.append(nicehex(to_send))\n",
    "    print(\"Sending: \",nicehex(to_send))\n",
    "    r.send(to_send)\n",
    "    \n",
    "    k = r.recv(1024,timeout=1)\n",
    "    data.append(nicehex(k))\n",
    "    \n",
    "    r.close()\n",
    "    \n",
    "    return data"
   ]
  },
  {
   "cell_type": "code",
   "execution_count": 171,
   "metadata": {},
   "outputs": [
    {
     "name": "stdout",
     "output_type": "stream",
     "text": [
      "[x] Opening connection to b3f585cbfa57364f98ddc78b-mainframe.challenge.master.cscg.live on port 31337\n",
      "[x] Opening connection to b3f585cbfa57364f98ddc78b-mainframe.challenge.master.cscg.live on port 31337: Trying 147.75.32.185\n",
      "[+] Opening connection to b3f585cbfa57364f98ddc78b-mainframe.challenge.master.cscg.live on port 31337: Done\n",
      "Sending:  02 00 00 00 00 00 00 a0 d0 79 50\n",
      "Command:  83 81 a3 40 86 93 81 87 4b 5c 25\n",
      "CRC:  32 f4 0e d5\n",
      "Sending:  10 0b 00 83 81 a3 40 86 93 81 87 4b 5c 25 32 f4 0e d5 e2 2c 00 58\n",
      "[*] Closed connection to b3f585cbfa57364f98ddc78b-mainframe.challenge.master.cscg.live port 31337\n",
      "[x] Opening connection to b3f585cbfa57364f98ddc78b-mainframe.challenge.master.cscg.live on port 31337\n",
      "[x] Opening connection to b3f585cbfa57364f98ddc78b-mainframe.challenge.master.cscg.live on port 31337: Trying 147.75.32.185\n",
      "[+] Opening connection to b3f585cbfa57364f98ddc78b-mainframe.challenge.master.cscg.live on port 31337: Done\n",
      "Sending:  02 00 00 00 00 00 00 a7 3e 6b 07\n",
      "Command:  83 81 a3 40 86 93 81 87 4b 5c 25\n",
      "CRC:  32 f4 0e d5\n",
      "Sending:  10 0b 00 83 81 a3 40 86 93 81 87 4b 5c 25 32 f4 0e d5 50 60 76 30\n",
      "[*] Closed connection to b3f585cbfa57364f98ddc78b-mainframe.challenge.master.cscg.live port 31337\n"
     ]
    }
   ],
   "source": [
    "k1,k2 = setup(),setup()"
   ]
  },
  {
   "cell_type": "code",
   "execution_count": 172,
   "metadata": {},
   "outputs": [
    {
     "data": {
      "text/plain": [
       "['01 00 00 00 00 00 00 9f d0 79 50',\n",
       " '02 00 00 00 00 00 00 a0 d0 79 50',\n",
       " '03 00 00 00 00 00 00 e1 2c 00 58',\n",
       " '10 0b 00 83 81 a3 40 86 93 81 87 4b 5c 25 32 f4 0e d5 e2 2c 00 58',\n",
       " '20 27 00 c3 e2 c3 c7 43 f7 83 f2 82 f8 f7 f9 f2 86 f6 84 85 81 f3 86 f8 84 f6 f4 f2 85 f6 f4 f8 f0 81 83 84 81 f3 85 f2 dc 25 c9 83 c4 ca 49 85 bd 2e']"
      ]
     },
     "execution_count": 172,
     "metadata": {},
     "output_type": "execute_result"
    }
   ],
   "source": [
    "k1"
   ]
  },
  {
   "cell_type": "code",
   "execution_count": 166,
   "metadata": {},
   "outputs": [
    {
     "data": {
      "text/plain": [
       "['01 00 00 00 00 00 00 b3 72 62 3f',\n",
       " '02 00 00 00 00 00 00 b4 72 62 3f',\n",
       " '03 00 00 00 00 00 00 d3 f1 a9 15',\n",
       " '10 03 00 89 84 25 15 70 4e 05 d4 f1 a9 15',\n",
       " '20 3c 00 a4 89 84 7e f1 f0 f0 f0 4d 97 a6 95 a3 96 96 93 a2 5d 40 87 89 84 7e f1 f0 f0 f0 4d 97 a6 95 a3 96 96 93 a2 5d 40 87 99 96 a4 97 a2 7e f1 f0 f0 f0 4d 97 a6 95 a3 96 96 93 a2 5d 25 0f 16 06 5c e5 cc d9 22']"
      ]
     },
     "execution_count": 166,
     "metadata": {},
     "output_type": "execute_result"
    }
   ],
   "source": [
    "k2"
   ]
  },
  {
   "cell_type": "code",
   "execution_count": null,
   "metadata": {},
   "outputs": [],
   "source": []
  },
  {
   "cell_type": "code",
   "execution_count": 7,
   "metadata": {},
   "outputs": [
    {
     "data": {
      "text/plain": [
       "'0xc0'"
      ]
     },
     "execution_count": 7,
     "metadata": {},
     "output_type": "execute_result"
    }
   ],
   "source": [
    "hex(0xbf + 1)"
   ]
  },
  {
   "cell_type": "code",
   "execution_count": 8,
   "metadata": {},
   "outputs": [],
   "source": [
    "c1 = [\"7e 1e fe 6c\",\"7f 1e fe 6c\",\"3e 9b 25 76\",\"6a ba d7 7e\"]\n",
    "c2 = [\"c0 92 81 69\",\"c1 92 81 69\",\"bf 7b e5 00\",\"db ae cd c8\"]\n",
    "\n",
    "del c1[1]\n",
    "del c2[1]\n",
    "\n",
    "f = lambda x: [[int(z,16) for z in y.split(\" \")] for y in x]\n",
    "\n",
    "c1,c2 = f(c1),f(c2)"
   ]
  },
  {
   "cell_type": "code",
   "execution_count": 11,
   "metadata": {},
   "outputs": [
    {
     "name": "stdout",
     "output_type": "stream",
     "text": [
      "a 01111110|00011110|11111110|01101100\n",
      "b 00111110|10011011|00100101|01110110\n",
      "c 01101010|10111010|11010111|01111110\n"
     ]
    },
    {
     "data": {
      "text/plain": [
       "[None, None, None]"
      ]
     },
     "execution_count": 11,
     "metadata": {},
     "output_type": "execute_result"
    }
   ],
   "source": [
    "[print(n,\"|\".join([format(y, '#010b')[2:] for y in x])) for x,n in zip(c1,\"abc\")]"
   ]
  },
  {
   "cell_type": "code",
   "execution_count": 13,
   "metadata": {},
   "outputs": [
    {
     "name": "stdout",
     "output_type": "stream",
     "text": [
      "a 11000000|10010010|10000001|01101001\n",
      "b 10111111|01111011|11100101|00000000\n",
      "c 11011011|10101110|11001101|11001000\n"
     ]
    },
    {
     "data": {
      "text/plain": [
       "[None, None, None]"
      ]
     },
     "execution_count": 13,
     "metadata": {},
     "output_type": "execute_result"
    }
   ],
   "source": [
    "[print(n,\"|\".join([format(y, '#010b')[2:] for y in x])) for x,n in zip(c2,\"abc\")]"
   ]
  },
  {
   "cell_type": "code",
   "execution_count": null,
   "metadata": {},
   "outputs": [],
   "source": []
  }
 ],
 "metadata": {
  "kernelspec": {
   "display_name": "Python 3",
   "language": "python",
   "name": "python3"
  },
  "language_info": {
   "codemirror_mode": {
    "name": "ipython",
    "version": 3
   },
   "file_extension": ".py",
   "mimetype": "text/x-python",
   "name": "python",
   "nbconvert_exporter": "python",
   "pygments_lexer": "ipython3",
   "version": "3.8.10"
  }
 },
 "nbformat": 4,
 "nbformat_minor": 4
}
